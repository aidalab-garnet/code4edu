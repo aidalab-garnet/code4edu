{
 "cells": [
  {
   "cell_type": "code",
   "execution_count": null,
   "metadata": {},
   "outputs": [],
   "source": [
    "a = 1\n",
    "b = 2"
   ]
  },
  {
   "cell_type": "code",
   "execution_count": null,
   "metadata": {},
   "outputs": [],
   "source": [
    "c = a + b"
   ]
  },
  {
   "cell_type": "code",
   "execution_count": null,
   "metadata": {},
   "outputs": [],
   "source": [
    "print(c)"
   ]
  },
  {
   "cell_type": "code",
   "execution_count": null,
   "metadata": {},
   "outputs": [],
   "source": [
    "int_data_1 = 1             # 자연수 (= 양의 정수)\n",
    "int_data_2 = -2            # 음의 정수\n",
    "float_data = 0.2           # 실수\n",
    "complex_data = 3+5j        # 복소수\n",
    "string_data_eng = \"Hello\"  # 문자열 (영어)\n",
    "string_data_kor = \"안녕\"   # 문자열 (한글)"
   ]
  },
  {
   "cell_type": "code",
   "execution_count": null,
   "metadata": {},
   "outputs": [],
   "source": [
    "print(int_data_1)\n",
    "print(int_data_2)\n",
    "print(float_data)\n",
    "print(complex_data)\n",
    "print(string_data_eng)\n",
    "print(string_data_kor)"
   ]
  },
  {
   "cell_type": "code",
   "execution_count": null,
   "metadata": {},
   "outputs": [],
   "source": [
    "list_1 = [1, 3, 5, 7, 9]\n",
    "list_2 = ['hello', 'good morning', 'a', 'b', 'c']\n",
    "list_3 = [2, 4, 'bye', [6,8,10], ['see', 'you', 'later']]\n",
    "\n",
    "print(list_1)\n",
    "print(list_2)\n",
    "print(list_3)\n",
    "print(\"-----------------\")\n",
    "print(list_1[0])\n",
    "print(list_2[1])\n",
    "print(list_3[3])\n",
    "print(\"-----------------\")\n",
    "print(list_3[4][1])"
   ]
  },
  {
   "cell_type": "code",
   "execution_count": null,
   "metadata": {},
   "outputs": [],
   "source": [
    "list_1 = [1, 2, 3, 4, 5]\n",
    "tuple_1 = (1, 2, 3, 4, 5)\n",
    "\n",
    "print(list_1)\n",
    "list_1[2] = 10\n",
    "print(list_1)\n",
    "print(\"------------------------\")\n",
    "print(tuple_1)\n",
    "tuple_1[2] = 10\n",
    "print(tuple_1)"
   ]
  },
  {
   "cell_type": "code",
   "execution_count": null,
   "metadata": {},
   "outputs": [],
   "source": [
    "dictionary_1 = {0:'False', 1:'True', 'a':\"small A\", \"b\":\"small B\", 'three':3, 'four':4}\n",
    "print(dictionary_1)\n",
    "print(\"------------------------\")\n",
    "print(dictionary_1[1])\n",
    "print(dictionary_1[\"a\"])\n",
    "print(dictionary_1[\"four\"])\n",
    "print(\"------------------------\")\n",
    "dictionary_1[\"b\"] = \"alphabet small B\"\n",
    "print(dictionary_1[\"b\"])"
   ]
  },
  {
   "cell_type": "code",
   "execution_count": 1,
   "metadata": {},
   "outputs": [
    {
     "name": "stdout",
     "output_type": "stream",
     "text": [
      "a가 b보다 크지 않습니다.\n"
     ]
    }
   ],
   "source": [
    "a = 10\n",
    "b = 20\n",
    "\n",
    "if a > b:\n",
    "    print(\"a가 b보다 큽니다.\")\n",
    "else:\n",
    "    print(\"a가 b보다 크지 않습니다.\")"
   ]
  },
  {
   "cell_type": "code",
   "execution_count": 2,
   "metadata": {},
   "outputs": [
    {
     "name": "stdout",
     "output_type": "stream",
     "text": [
      "a는 b보다 작습니다.\n"
     ]
    }
   ],
   "source": [
    "a = 10\n",
    "b = 20\n",
    "\n",
    "if a > b:\n",
    "    print(\"a가 b보다 큽니다.\")\n",
    "elif a == b:\n",
    "    print(\"a와 b가 같습니다.\")\n",
    "else:\n",
    "    print(\"a는 b보다 작습니다.\")"
   ]
  },
  {
   "cell_type": "code",
   "execution_count": 3,
   "metadata": {},
   "outputs": [
    {
     "name": "stdout",
     "output_type": "stream",
     "text": [
      "a는 b보다 작습니다.\n"
     ]
    }
   ],
   "source": [
    "a = 10\n",
    "b = 20\n",
    "\n",
    "if a > b:\n",
    "    print(\"a가 b보다 큽니다.\")\n",
    "else:\n",
    "    if a == b:\n",
    "        print(\"a와 b가 같습니다.\")\n",
    "    else:\n",
    "        print(\"a는 b보다 작습니다.\")"
   ]
  },
  {
   "cell_type": "code",
   "execution_count": 1,
   "metadata": {},
   "outputs": [
    {
     "name": "stdout",
     "output_type": "stream",
     "text": [
      "1\n",
      "3\n",
      "4\n",
      "6\n",
      "7\n"
     ]
    }
   ],
   "source": [
    "area = [1,3,4,6,7]\n",
    "\n",
    "for x in area:\n",
    "    print(x)"
   ]
  },
  {
   "cell_type": "code",
   "execution_count": 2,
   "metadata": {},
   "outputs": [
    {
     "name": "stdout",
     "output_type": "stream",
     "text": [
      "H\n",
      "e\n",
      "l\n",
      "l\n",
      "o\n"
     ]
    }
   ],
   "source": [
    "area_string = \"Hello\"\n",
    "\n",
    "for x in area_string:\n",
    "    print(x)"
   ]
  },
  {
   "cell_type": "code",
   "execution_count": 17,
   "metadata": {},
   "outputs": [
    {
     "name": "stdout",
     "output_type": "stream",
     "text": [
      "a\n",
      "b\n",
      "c\n",
      "d\n"
     ]
    }
   ],
   "source": [
    "area_dictionary = {'a':'Nice', 'b':'to', 'c':'meet', 'd':'you'}\n",
    "\n",
    "for x in area_dictionary:\n",
    "    print(x)"
   ]
  },
  {
   "cell_type": "code",
   "execution_count": 11,
   "metadata": {},
   "outputs": [
    {
     "name": "stdout",
     "output_type": "stream",
     "text": [
      "a\n",
      "Nice\n",
      "b\n",
      "to\n",
      "c\n",
      "meet\n",
      "d\n",
      "you\n"
     ]
    }
   ],
   "source": [
    "area_dictionary = {'a':'Nice', 'b':'to', 'c':'meet', 'd':'you'}\n",
    "\n",
    "for x in area_dictionary:\n",
    "    print(x)\n",
    "    print(area_dictionary[x])"
   ]
  },
  {
   "cell_type": "code",
   "execution_count": 19,
   "metadata": {},
   "outputs": [
    {
     "name": "stdout",
     "output_type": "stream",
     "text": [
      "a\n",
      "Nice\n",
      "b\n",
      "to\n",
      "c\n",
      "meet\n",
      "d\n",
      "you\n"
     ]
    }
   ],
   "source": [
    "area_dictionary = {'a':'Nice', 'b':'to', 'c':'meet', 'd':'you'}\n",
    "\n",
    "for key, value in area_dictionary.items():\n",
    "    print(key)\n",
    "    print(value)"
   ]
  },
  {
   "cell_type": "code",
   "execution_count": 23,
   "metadata": {},
   "outputs": [
    {
     "name": "stdout",
     "output_type": "stream",
     "text": [
      "0\n",
      "1\n",
      "2\n",
      "3\n",
      "4\n"
     ]
    }
   ],
   "source": [
    "for x in range(5):\n",
    "    print(x)"
   ]
  },
  {
   "cell_type": "code",
   "execution_count": 22,
   "metadata": {},
   "outputs": [
    {
     "name": "stdout",
     "output_type": "stream",
     "text": [
      "3\n",
      "4\n"
     ]
    }
   ],
   "source": [
    "for x in range(3,5):\n",
    "    print(x)"
   ]
  },
  {
   "cell_type": "code",
   "execution_count": 24,
   "metadata": {},
   "outputs": [
    {
     "name": "stdout",
     "output_type": "stream",
     "text": [
      "3\n",
      "5\n",
      "7\n",
      "9\n"
     ]
    }
   ],
   "source": [
    "for x in range(3, 10, 2):\n",
    "    print(x)"
   ]
  },
  {
   "cell_type": "code",
   "execution_count": 25,
   "metadata": {},
   "outputs": [
    {
     "ename": "TypeError",
     "evalue": "'float' object cannot be interpreted as an integer",
     "output_type": "error",
     "traceback": [
      "\u001b[1;31m---------------------------------------------------------------------------\u001b[0m",
      "\u001b[1;31mTypeError\u001b[0m                                 Traceback (most recent call last)",
      "\u001b[1;32m<ipython-input-25-19a89752af8c>\u001b[0m in \u001b[0;36m<module>\u001b[1;34m\u001b[0m\n\u001b[1;32m----> 1\u001b[1;33m \u001b[1;32mfor\u001b[0m \u001b[0mx\u001b[0m \u001b[1;32min\u001b[0m \u001b[0mrange\u001b[0m\u001b[1;33m(\u001b[0m\u001b[1;36m3\u001b[0m\u001b[1;33m,\u001b[0m \u001b[1;36m3\u001b[0m\u001b[1;33m,\u001b[0m \u001b[1;36m0.2\u001b[0m\u001b[1;33m)\u001b[0m\u001b[1;33m:\u001b[0m\u001b[1;33m\u001b[0m\u001b[1;33m\u001b[0m\u001b[0m\n\u001b[0m\u001b[0;32m      2\u001b[0m     \u001b[0mprint\u001b[0m\u001b[1;33m(\u001b[0m\u001b[0mx\u001b[0m\u001b[1;33m)\u001b[0m\u001b[1;33m\u001b[0m\u001b[1;33m\u001b[0m\u001b[0m\n",
      "\u001b[1;31mTypeError\u001b[0m: 'float' object cannot be interpreted as an integer"
     ]
    }
   ],
   "source": [
    "for x in range(3, 3, 0.2):\n",
    "    print(x)"
   ]
  },
  {
   "cell_type": "code",
   "execution_count": null,
   "metadata": {},
   "outputs": [],
   "source": []
  }
 ],
 "metadata": {
  "kernelspec": {
   "display_name": "Python 3",
   "language": "python",
   "name": "python3"
  },
  "language_info": {
   "codemirror_mode": {
    "name": "ipython",
    "version": 3
   },
   "file_extension": ".py",
   "mimetype": "text/x-python",
   "name": "python",
   "nbconvert_exporter": "python",
   "pygments_lexer": "ipython3",
   "version": "3.7.9"
  }
 },
 "nbformat": 4,
 "nbformat_minor": 4
}
