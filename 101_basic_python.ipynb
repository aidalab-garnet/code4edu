{
 "cells": [
  {
   "cell_type": "code",
   "execution_count": null,
   "metadata": {},
   "outputs": [],
   "source": [
    "a = 1\n",
    "b = 2"
   ]
  },
  {
   "cell_type": "code",
   "execution_count": null,
   "metadata": {},
   "outputs": [],
   "source": [
    "c = a + b"
   ]
  },
  {
   "cell_type": "code",
   "execution_count": null,
   "metadata": {},
   "outputs": [],
   "source": [
    "print(c)"
   ]
  },
  {
   "cell_type": "code",
   "execution_count": null,
   "metadata": {},
   "outputs": [],
   "source": [
    "int_data_1 = 1             # 자연수 (= 양의 정수)\n",
    "int_data_2 = -2            # 음의 정수\n",
    "float_data = 0.2           # 실수\n",
    "complex_data = 3+5j        # 복소수\n",
    "string_data_eng = \"Hello\"  # 문자열 (영어)\n",
    "string_data_kor = \"안녕\"   # 문자열 (한글)"
   ]
  },
  {
   "cell_type": "code",
   "execution_count": null,
   "metadata": {},
   "outputs": [],
   "source": [
    "print(int_data_1)\n",
    "print(int_data_2)\n",
    "print(float_data)\n",
    "print(complex_data)\n",
    "print(string_data_eng)\n",
    "print(string_data_kor)"
   ]
  },
  {
   "cell_type": "code",
   "execution_count": null,
   "metadata": {},
   "outputs": [],
   "source": [
    "list_1 = [1, 3, 5, 7, 9]\n",
    "list_2 = ['hello', 'good morning', 'a', 'b', 'c']\n",
    "list_3 = [2, 4, 'bye', [6,8,10], ['see', 'you', 'later']]\n",
    "\n",
    "print(list_1)\n",
    "print(list_2)\n",
    "print(list_3)\n",
    "print(\"-----------------\")\n",
    "print(list_1[0])\n",
    "print(list_2[1])\n",
    "print(list_3[3])\n",
    "print(\"-----------------\")\n",
    "print(list_3[4][1])"
   ]
  },
  {
   "cell_type": "code",
   "execution_count": null,
   "metadata": {},
   "outputs": [],
   "source": [
    "list_1 = [1, 2, 3, 4, 5]\n",
    "tuple_1 = (1, 2, 3, 4, 5)\n",
    "\n",
    "print(list_1)\n",
    "list_1[2] = 10\n",
    "print(list_1)\n",
    "print(\"------------------------\")\n",
    "print(tuple_1)\n",
    "tuple_1[2] = 10\n",
    "print(tuple_1)"
   ]
  },
  {
   "cell_type": "code",
   "execution_count": null,
   "metadata": {},
   "outputs": [],
   "source": [
    "dictionary_1 = {0:'False', 1:'True', 'a':\"small A\", \"b\":\"small B\", 'three':3, 'four':4}\n",
    "print(dictionary_1)\n",
    "print(\"------------------------\")\n",
    "print(dictionary_1[1])\n",
    "print(dictionary_1[\"a\"])\n",
    "print(dictionary_1[\"four\"])\n",
    "print(\"------------------------\")\n",
    "dictionary_1[\"b\"] = \"alphabet small B\"\n",
    "print(dictionary_1[\"b\"])"
   ]
  },
  {
   "cell_type": "code",
   "execution_count": 1,
   "metadata": {},
   "outputs": [
    {
     "name": "stdout",
     "output_type": "stream",
     "text": [
      "a가 b보다 크지 않습니다.\n"
     ]
    }
   ],
   "source": [
    "a = 10\n",
    "b = 20\n",
    "\n",
    "if a > b:\n",
    "    print(\"a가 b보다 큽니다.\")\n",
    "else:\n",
    "    print(\"a가 b보다 크지 않습니다.\")"
   ]
  },
  {
   "cell_type": "code",
   "execution_count": 2,
   "metadata": {},
   "outputs": [
    {
     "name": "stdout",
     "output_type": "stream",
     "text": [
      "a는 b보다 작습니다.\n"
     ]
    }
   ],
   "source": [
    "a = 10\n",
    "b = 20\n",
    "\n",
    "if a > b:\n",
    "    print(\"a가 b보다 큽니다.\")\n",
    "elif a == b:\n",
    "    print(\"a와 b가 같습니다.\")\n",
    "else:\n",
    "    print(\"a는 b보다 작습니다.\")"
   ]
  },
  {
   "cell_type": "code",
   "execution_count": 3,
   "metadata": {},
   "outputs": [
    {
     "name": "stdout",
     "output_type": "stream",
     "text": [
      "a는 b보다 작습니다.\n"
     ]
    }
   ],
   "source": [
    "a = 10\n",
    "b = 20\n",
    "\n",
    "if a > b:\n",
    "    print(\"a가 b보다 큽니다.\")\n",
    "else:\n",
    "    if a == b:\n",
    "        print(\"a와 b가 같습니다.\")\n",
    "    else:\n",
    "        print(\"a는 b보다 작습니다.\")"
   ]
  },
  {
   "cell_type": "code",
   "execution_count": null,
   "metadata": {},
   "outputs": [],
   "source": []
  }
 ],
 "metadata": {
  "kernelspec": {
   "display_name": "Python 3",
   "language": "python",
   "name": "python3"
  },
  "language_info": {
   "codemirror_mode": {
    "name": "ipython",
    "version": 3
   },
   "file_extension": ".py",
   "mimetype": "text/x-python",
   "name": "python",
   "nbconvert_exporter": "python",
   "pygments_lexer": "ipython3",
   "version": "3.7.9"
  }
 },
 "nbformat": 4,
 "nbformat_minor": 4
}
