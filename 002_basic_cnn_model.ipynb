{
 "cells": [
  {
   "cell_type": "code",
   "execution_count": 1,
   "metadata": {},
   "outputs": [],
   "source": [
    "import numpy as np\n",
    "from tensorflow import keras\n",
    "from tensorflow.keras.layers import Dense, Conv1D, Flatten\n",
    "from sklearn.datasets import load_iris\n",
    "from sklearn.model_selection import train_test_split"
   ]
  },
  {
   "cell_type": "code",
   "execution_count": 2,
   "metadata": {},
   "outputs": [],
   "source": [
    "iris = load_iris()\n",
    "x = iris['data']\n",
    "y = iris['target']\n",
    "\n",
    "train_x, test_x, train_y, test_y = train_test_split(x, y, stratify=y, test_size=0.2, random_state=30)\n",
    "\n",
    "train_x = np.reshape(train_x, (len(train_x), 4, 1))\n",
    "test_x = np.reshape(test_x, (len(test_x), 4, 1))"
   ]
  },
  {
   "cell_type": "code",
   "execution_count": 3,
   "metadata": {},
   "outputs": [
    {
     "name": "stdout",
     "output_type": "stream",
     "text": [
      "Model: \"sequential\"\n",
      "_________________________________________________________________\n",
      "Layer (type)                 Output Shape              Param #   \n",
      "=================================================================\n",
      "conv1d (Conv1D)              (None, 2, 4)              16        \n",
      "_________________________________________________________________\n",
      "flatten (Flatten)            (None, 8)                 0         \n",
      "_________________________________________________________________\n",
      "dense (Dense)                (None, 10)                90        \n",
      "_________________________________________________________________\n",
      "dense_1 (Dense)              (None, 10)                110       \n",
      "_________________________________________________________________\n",
      "dense_2 (Dense)              (None, 3)                 33        \n",
      "=================================================================\n",
      "Total params: 249\n",
      "Trainable params: 249\n",
      "Non-trainable params: 0\n",
      "_________________________________________________________________\n"
     ]
    }
   ],
   "source": [
    "model = keras.Sequential()\n",
    "model.add(Conv1D(4, 3, activation='relu', input_shape=(4,1)))\n",
    "model.add(Flatten())\n",
    "model.add(Dense(10, activation='relu'))\n",
    "model.add(Dense(10, activation='relu'))\n",
    "model.add(Dense(3, activation=\"softmax\"))\n",
    "\n",
    "model.compile(optimizer=\"SGD\", loss=\"sparse_categorical_crossentropy\", metrics=[\"accuracy\"])\n",
    "model.summary()"
   ]
  },
  {
   "cell_type": "code",
   "execution_count": 4,
   "metadata": {},
   "outputs": [
    {
     "name": "stdout",
     "output_type": "stream",
     "text": [
      "30/30 [==============================] - 0s 3ms/sample - loss: 0.1480 - accuracy: 0.9333\n"
     ]
    }
   ],
   "source": [
    "model.fit(train_x, train_y, epochs=1000, verbose=0, batch_size=20)\n",
    "loss, acc = model.evaluate(test_x, test_y)\n",
    "result = model.predict(test_x)"
   ]
  },
  {
   "cell_type": "code",
   "execution_count": 5,
   "metadata": {},
   "outputs": [
    {
     "name": "stdout",
     "output_type": "stream",
     "text": [
      "[[2.5273684e-08 2.3925351e-01 7.6074642e-01]\n",
      " [3.0837924e-08 3.1035900e-02 9.6896410e-01]\n",
      " [9.9957591e-01 4.2406985e-04 1.1159365e-24]\n",
      " [7.6944572e-03 9.9230558e-01 9.5735349e-09]\n",
      " [4.4592008e-02 9.5540798e-01 1.0437524e-09]\n",
      " [9.9899071e-01 1.0093240e-03 3.7054347e-22]\n",
      " [9.9891615e-01 1.0838690e-03 5.6770848e-22]\n",
      " [9.9877006e-01 1.2299411e-03 1.2466563e-21]\n",
      " [6.4491260e-08 3.7271029e-01 6.2728965e-01]\n",
      " [6.1891791e-05 9.9990714e-01 3.1003692e-05]\n",
      " [9.9022768e-04 9.9900693e-01 2.8988436e-06]\n",
      " [2.3611217e-09 1.2179002e-02 9.8782104e-01]\n",
      " [9.3554595e-04 9.9906319e-01 1.2924633e-06]\n",
      " [1.5833559e-10 2.9113062e-03 9.9708873e-01]\n",
      " [9.9928844e-01 7.1148376e-04 3.1026155e-23]\n",
      " [9.9866247e-01 1.3374959e-03 2.1724043e-21]\n",
      " [9.9823749e-01 1.7624928e-03 3.3195717e-21]\n",
      " [3.5687287e-06 9.7078133e-01 2.9215043e-02]\n",
      " [9.9933857e-01 6.6137873e-04 1.9022362e-23]\n",
      " [3.2723314e-05 9.9898046e-01 9.8673382e-04]\n",
      " [4.0775032e-07 7.7942896e-01 2.2057068e-01]\n",
      " [9.9815696e-01 1.8429864e-03 1.1637866e-20]\n",
      " [3.0151743e-04 9.9969780e-01 7.7005114e-07]\n",
      " [6.6196844e-05 9.9977428e-01 1.5964145e-04]\n",
      " [3.3204260e-06 7.1842897e-01 2.8156763e-01]\n",
      " [2.5246698e-05 9.9972123e-01 2.5346442e-04]\n",
      " [9.1173197e-10 3.1434621e-03 9.9685657e-01]\n",
      " [2.8627926e-07 3.3823368e-01 6.6176599e-01]\n",
      " [9.9919063e-01 8.0942578e-04 7.7704636e-23]\n",
      " [4.7147985e-08 3.0223778e-01 6.9776213e-01]]\n",
      "[2 2 0 1 1 0 0 0 2 1 1 2 1 2 0 0 0 1 0 1 1 0 1 1 1 1 2 2 0 2]\n"
     ]
    }
   ],
   "source": [
    "print(result)\n",
    "print(np.argmax(result, axis=1))"
   ]
  },
  {
   "cell_type": "code",
   "execution_count": null,
   "metadata": {},
   "outputs": [],
   "source": []
  }
 ],
 "metadata": {
  "kernelspec": {
   "display_name": "Python 3",
   "language": "python",
   "name": "python3"
  },
  "language_info": {
   "codemirror_mode": {
    "name": "ipython",
    "version": 3
   },
   "file_extension": ".py",
   "mimetype": "text/x-python",
   "name": "python",
   "nbconvert_exporter": "python",
   "pygments_lexer": "ipython3",
   "version": "3.8.5"
  }
 },
 "nbformat": 4,
 "nbformat_minor": 4
}
